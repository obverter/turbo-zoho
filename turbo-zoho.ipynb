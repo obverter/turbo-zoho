{
 "cells": [
  {
   "cell_type": "code",
   "execution_count": 20,
   "metadata": {},
   "outputs": [],
   "source": [
    "import config\n",
    "import pandas as pd\n",
    "import requests\n",
    "from requests_oauthlib import OAuth2Session\n",
    "import pyzohoapi"
   ]
  },
  {
   "cell_type": "code",
   "execution_count": 21,
   "metadata": {},
   "outputs": [],
   "source": [
    "org = config.zohobooks_org\n",
    "zbkey = config.zohobooks_key\n",
    "zbsecret = config.zohobooks_secret\n",
    "scope = config.temp_scope\n",
    "root = \"https://books.zoho.com/api/v3\"\n",
    "oath_root = \"https://accounts.zoho.com/\"\n",
    "client_id = config.client_id\n",
    "client_secret = config.client_secret\n",
    "regen_uri = \"https://accounts.zoho.com/oauth/v2/token?\"\n",
    "refresh_token = config.refresh_token\n"
   ]
  },
  {
   "cell_type": "code",
   "execution_count": 17,
   "metadata": {},
   "outputs": [],
   "source": [
    "# https://requests-oauthlib.readthedocs.io/en/latest/oauth2_workflow.html#backend-application-flow\n",
    "token = {\n",
    "   'access_token': 'eswfld123kjhn1v5423',\n",
    "   'refresh_token': 'asdfkljh23490sdf',\n",
    "   'token_type': 'Bearer',\n",
    "   'expires_in': '-30',     # initially 3600, need to be updated by you\n",
    "}\n",
    "client_id = r'config.client_id'\n",
    "refresh_url = regen_uri\n",
    "protected_url = 'https://provider.com/secret'\n",
    "\n",
    "extra = {\n",
    "    'client_id': client_id,\n",
    "    'client_secret': r'config.client_secret',\n",
    "}\n",
    "\n",
    "def token_saver(token):\n",
    "    saved_token = token"
   ]
  },
  {
   "cell_type": "code",
   "execution_count": 18,
   "metadata": {},
   "outputs": [
    {
     "ename": "InvalidClientError",
     "evalue": "(invalid_client) ",
     "output_type": "error",
     "traceback": [
      "\u001b[0;31m---------------------------------------------------------------------------\u001b[0m",
      "\u001b[0;31mTokenExpiredError\u001b[0m                         Traceback (most recent call last)",
      "File \u001b[0;32m~/.pyenv/versions/3.10.3/lib/python3.10/site-packages/requests_oauthlib/oauth2_session.py:483\u001b[0m, in \u001b[0;36mOAuth2Session.request\u001b[0;34m(self, method, url, data, headers, withhold_token, client_id, client_secret, **kwargs)\u001b[0m\n\u001b[1;32m    482\u001b[0m \u001b[39mtry\u001b[39;00m:\n\u001b[0;32m--> 483\u001b[0m     url, headers, data \u001b[39m=\u001b[39m \u001b[39mself\u001b[39;49m\u001b[39m.\u001b[39;49m_client\u001b[39m.\u001b[39;49madd_token(\n\u001b[1;32m    484\u001b[0m         url, http_method\u001b[39m=\u001b[39;49mmethod, body\u001b[39m=\u001b[39;49mdata, headers\u001b[39m=\u001b[39;49mheaders\n\u001b[1;32m    485\u001b[0m     )\n\u001b[1;32m    486\u001b[0m \u001b[39m# Attempt to retrieve and save new access token if expired\u001b[39;00m\n",
      "File \u001b[0;32m~/.pyenv/versions/3.10.3/lib/python3.10/site-packages/oauthlib/oauth2/rfc6749/clients/base.py:217\u001b[0m, in \u001b[0;36mClient.add_token\u001b[0;34m(self, uri, http_method, body, headers, token_placement, **kwargs)\u001b[0m\n\u001b[1;32m    216\u001b[0m \u001b[39mif\u001b[39;00m \u001b[39mself\u001b[39m\u001b[39m.\u001b[39m_expires_at \u001b[39mand\u001b[39;00m \u001b[39mself\u001b[39m\u001b[39m.\u001b[39m_expires_at \u001b[39m<\u001b[39m time\u001b[39m.\u001b[39mtime():\n\u001b[0;32m--> 217\u001b[0m     \u001b[39mraise\u001b[39;00m TokenExpiredError()\n\u001b[1;32m    219\u001b[0m \u001b[39mreturn\u001b[39;00m case_insensitive_token_types[\u001b[39mself\u001b[39m\u001b[39m.\u001b[39mtoken_type\u001b[39m.\u001b[39mlower()](uri, http_method, body,\n\u001b[1;32m    220\u001b[0m                                                              headers, token_placement, \u001b[39m*\u001b[39m\u001b[39m*\u001b[39mkwargs)\n",
      "\u001b[0;31mTokenExpiredError\u001b[0m: (token_expired) ",
      "\nDuring handling of the above exception, another exception occurred:\n",
      "\u001b[0;31mInvalidClientError\u001b[0m                        Traceback (most recent call last)",
      "\u001b[1;32m/Users/bean/Dropbox/code/turbo-zoho/turbo-zoho.ipynb Cell 4'\u001b[0m in \u001b[0;36m<cell line: 2>\u001b[0;34m()\u001b[0m\n\u001b[1;32m      <a href='vscode-notebook-cell:/Users/bean/Dropbox/code/turbo-zoho/turbo-zoho.ipynb#ch0000025?line=0'>1</a>\u001b[0m client \u001b[39m=\u001b[39m OAuth2Session(client_id, token\u001b[39m=\u001b[39mtoken, auto_refresh_url\u001b[39m=\u001b[39mrefresh_url, auto_refresh_kwargs\u001b[39m=\u001b[39mextra, token_updater\u001b[39m=\u001b[39mtoken_saver)\n\u001b[0;32m----> <a href='vscode-notebook-cell:/Users/bean/Dropbox/code/turbo-zoho/turbo-zoho.ipynb#ch0000025?line=1'>2</a>\u001b[0m r \u001b[39m=\u001b[39m client\u001b[39m.\u001b[39;49mget(protected_url)\n",
      "File \u001b[0;32m~/.local/lib/python3.10/site-packages/requests/sessions.py:600\u001b[0m, in \u001b[0;36mSession.get\u001b[0;34m(self, url, **kwargs)\u001b[0m\n\u001b[1;32m    592\u001b[0m \u001b[39mr\u001b[39m\u001b[39m\"\"\"Sends a GET request. Returns :class:`Response` object.\u001b[39;00m\n\u001b[1;32m    593\u001b[0m \n\u001b[1;32m    594\u001b[0m \u001b[39m:param url: URL for the new :class:`Request` object.\u001b[39;00m\n\u001b[1;32m    595\u001b[0m \u001b[39m:param \\*\\*kwargs: Optional arguments that ``request`` takes.\u001b[39;00m\n\u001b[1;32m    596\u001b[0m \u001b[39m:rtype: requests.Response\u001b[39;00m\n\u001b[1;32m    597\u001b[0m \u001b[39m\"\"\"\u001b[39;00m\n\u001b[1;32m    599\u001b[0m kwargs\u001b[39m.\u001b[39msetdefault(\u001b[39m\"\u001b[39m\u001b[39mallow_redirects\u001b[39m\u001b[39m\"\u001b[39m, \u001b[39mTrue\u001b[39;00m)\n\u001b[0;32m--> 600\u001b[0m \u001b[39mreturn\u001b[39;00m \u001b[39mself\u001b[39;49m\u001b[39m.\u001b[39;49mrequest(\u001b[39m\"\u001b[39;49m\u001b[39mGET\u001b[39;49m\u001b[39m\"\u001b[39;49m, url, \u001b[39m*\u001b[39;49m\u001b[39m*\u001b[39;49mkwargs)\n",
      "File \u001b[0;32m~/.pyenv/versions/3.10.3/lib/python3.10/site-packages/requests_oauthlib/oauth2_session.py:502\u001b[0m, in \u001b[0;36mOAuth2Session.request\u001b[0;34m(self, method, url, data, headers, withhold_token, client_id, client_secret, **kwargs)\u001b[0m\n\u001b[1;32m    497\u001b[0m     log\u001b[39m.\u001b[39mdebug(\n\u001b[1;32m    498\u001b[0m         \u001b[39m'\u001b[39m\u001b[39mEncoding client_id \u001b[39m\u001b[39m\"\u001b[39m\u001b[39m%s\u001b[39;00m\u001b[39m\"\u001b[39m\u001b[39m with client_secret as Basic auth credentials.\u001b[39m\u001b[39m'\u001b[39m,\n\u001b[1;32m    499\u001b[0m         client_id,\n\u001b[1;32m    500\u001b[0m     )\n\u001b[1;32m    501\u001b[0m     auth \u001b[39m=\u001b[39m requests\u001b[39m.\u001b[39mauth\u001b[39m.\u001b[39mHTTPBasicAuth(client_id, client_secret)\n\u001b[0;32m--> 502\u001b[0m token \u001b[39m=\u001b[39m \u001b[39mself\u001b[39;49m\u001b[39m.\u001b[39;49mrefresh_token(\n\u001b[1;32m    503\u001b[0m     \u001b[39mself\u001b[39;49m\u001b[39m.\u001b[39;49mauto_refresh_url, auth\u001b[39m=\u001b[39;49mauth, \u001b[39m*\u001b[39;49m\u001b[39m*\u001b[39;49mkwargs\n\u001b[1;32m    504\u001b[0m )\n\u001b[1;32m    505\u001b[0m \u001b[39mif\u001b[39;00m \u001b[39mself\u001b[39m\u001b[39m.\u001b[39mtoken_updater:\n\u001b[1;32m    506\u001b[0m     log\u001b[39m.\u001b[39mdebug(\n\u001b[1;32m    507\u001b[0m         \u001b[39m\"\u001b[39m\u001b[39mUpdating token to \u001b[39m\u001b[39m%s\u001b[39;00m\u001b[39m using \u001b[39m\u001b[39m%s\u001b[39;00m\u001b[39m.\u001b[39m\u001b[39m\"\u001b[39m, token, \u001b[39mself\u001b[39m\u001b[39m.\u001b[39mtoken_updater\n\u001b[1;32m    508\u001b[0m     )\n",
      "File \u001b[0;32m~/.pyenv/versions/3.10.3/lib/python3.10/site-packages/requests_oauthlib/oauth2_session.py:452\u001b[0m, in \u001b[0;36mOAuth2Session.refresh_token\u001b[0;34m(self, token_url, refresh_token, body, auth, timeout, headers, verify, proxies, **kwargs)\u001b[0m\n\u001b[1;32m    449\u001b[0m     log\u001b[39m.\u001b[39mdebug(\u001b[39m\"\u001b[39m\u001b[39mInvoking hook \u001b[39m\u001b[39m%s\u001b[39;00m\u001b[39m.\u001b[39m\u001b[39m\"\u001b[39m, hook)\n\u001b[1;32m    450\u001b[0m     r \u001b[39m=\u001b[39m hook(r)\n\u001b[0;32m--> 452\u001b[0m \u001b[39mself\u001b[39m\u001b[39m.\u001b[39mtoken \u001b[39m=\u001b[39m \u001b[39mself\u001b[39;49m\u001b[39m.\u001b[39;49m_client\u001b[39m.\u001b[39;49mparse_request_body_response(r\u001b[39m.\u001b[39;49mtext, scope\u001b[39m=\u001b[39;49m\u001b[39mself\u001b[39;49m\u001b[39m.\u001b[39;49mscope)\n\u001b[1;32m    453\u001b[0m \u001b[39mif\u001b[39;00m \u001b[39mnot\u001b[39;00m \u001b[39m\"\u001b[39m\u001b[39mrefresh_token\u001b[39m\u001b[39m\"\u001b[39m \u001b[39min\u001b[39;00m \u001b[39mself\u001b[39m\u001b[39m.\u001b[39mtoken:\n\u001b[1;32m    454\u001b[0m     log\u001b[39m.\u001b[39mdebug(\u001b[39m\"\u001b[39m\u001b[39mNo new refresh token given. Re-using old.\u001b[39m\u001b[39m\"\u001b[39m)\n",
      "File \u001b[0;32m~/.pyenv/versions/3.10.3/lib/python3.10/site-packages/oauthlib/oauth2/rfc6749/clients/base.py:448\u001b[0m, in \u001b[0;36mClient.parse_request_body_response\u001b[0;34m(self, body, scope, **kwargs)\u001b[0m\n\u001b[1;32m    401\u001b[0m \u001b[39m\"\"\"Parse the JSON response body.\u001b[39;00m\n\u001b[1;32m    402\u001b[0m \n\u001b[1;32m    403\u001b[0m \u001b[39mIf the access token request is valid and authorized, the\u001b[39;00m\n\u001b[0;32m   (...)\u001b[0m\n\u001b[1;32m    445\u001b[0m \u001b[39m.. _`Section 7.1`: https://tools.ietf.org/html/rfc6749#section-7.1\u001b[39;00m\n\u001b[1;32m    446\u001b[0m \u001b[39m\"\"\"\u001b[39;00m\n\u001b[1;32m    447\u001b[0m scope \u001b[39m=\u001b[39m \u001b[39mself\u001b[39m\u001b[39m.\u001b[39mscope \u001b[39mif\u001b[39;00m scope \u001b[39mis\u001b[39;00m \u001b[39mNone\u001b[39;00m \u001b[39melse\u001b[39;00m scope\n\u001b[0;32m--> 448\u001b[0m \u001b[39mself\u001b[39m\u001b[39m.\u001b[39mtoken \u001b[39m=\u001b[39m parse_token_response(body, scope\u001b[39m=\u001b[39;49mscope)\n\u001b[1;32m    449\u001b[0m \u001b[39mself\u001b[39m\u001b[39m.\u001b[39mpopulate_token_attributes(\u001b[39mself\u001b[39m\u001b[39m.\u001b[39mtoken)\n\u001b[1;32m    450\u001b[0m \u001b[39mreturn\u001b[39;00m \u001b[39mself\u001b[39m\u001b[39m.\u001b[39mtoken\n",
      "File \u001b[0;32m~/.pyenv/versions/3.10.3/lib/python3.10/site-packages/oauthlib/oauth2/rfc6749/parameters.py:441\u001b[0m, in \u001b[0;36mparse_token_response\u001b[0;34m(body, scope)\u001b[0m\n\u001b[1;32m    438\u001b[0m         params[\u001b[39m'\u001b[39m\u001b[39mexpires_at\u001b[39m\u001b[39m'\u001b[39m] \u001b[39m=\u001b[39m time\u001b[39m.\u001b[39mtime() \u001b[39m+\u001b[39m \u001b[39mint\u001b[39m(params[\u001b[39m'\u001b[39m\u001b[39mexpires_in\u001b[39m\u001b[39m'\u001b[39m])\n\u001b[1;32m    440\u001b[0m params \u001b[39m=\u001b[39m OAuth2Token(params, old_scope\u001b[39m=\u001b[39mscope)\n\u001b[0;32m--> 441\u001b[0m validate_token_parameters(params)\n\u001b[1;32m    442\u001b[0m \u001b[39mreturn\u001b[39;00m params\n",
      "File \u001b[0;32m~/.pyenv/versions/3.10.3/lib/python3.10/site-packages/oauthlib/oauth2/rfc6749/parameters.py:448\u001b[0m, in \u001b[0;36mvalidate_token_parameters\u001b[0;34m(params)\u001b[0m\n\u001b[1;32m    446\u001b[0m \u001b[39m\"\"\"Ensures token presence, token type, expiration and scope in params.\"\"\"\u001b[39;00m\n\u001b[1;32m    447\u001b[0m \u001b[39mif\u001b[39;00m \u001b[39m'\u001b[39m\u001b[39merror\u001b[39m\u001b[39m'\u001b[39m \u001b[39min\u001b[39;00m params:\n\u001b[0;32m--> 448\u001b[0m     raise_from_error(params\u001b[39m.\u001b[39;49mget(\u001b[39m'\u001b[39;49m\u001b[39merror\u001b[39;49m\u001b[39m'\u001b[39;49m), params)\n\u001b[1;32m    450\u001b[0m \u001b[39mif\u001b[39;00m \u001b[39mnot\u001b[39;00m \u001b[39m'\u001b[39m\u001b[39maccess_token\u001b[39m\u001b[39m'\u001b[39m \u001b[39min\u001b[39;00m params:\n\u001b[1;32m    451\u001b[0m     \u001b[39mraise\u001b[39;00m MissingTokenError(description\u001b[39m=\u001b[39m\u001b[39m\"\u001b[39m\u001b[39mMissing access token parameter.\u001b[39m\u001b[39m\"\u001b[39m)\n",
      "File \u001b[0;32m~/.pyenv/versions/3.10.3/lib/python3.10/site-packages/oauthlib/oauth2/rfc6749/errors.py:399\u001b[0m, in \u001b[0;36mraise_from_error\u001b[0;34m(error, params)\u001b[0m\n\u001b[1;32m    397\u001b[0m \u001b[39mfor\u001b[39;00m _, \u001b[39mcls\u001b[39m \u001b[39min\u001b[39;00m inspect\u001b[39m.\u001b[39mgetmembers(sys\u001b[39m.\u001b[39mmodules[\u001b[39m__name__\u001b[39m], inspect\u001b[39m.\u001b[39misclass):\n\u001b[1;32m    398\u001b[0m     \u001b[39mif\u001b[39;00m \u001b[39mcls\u001b[39m\u001b[39m.\u001b[39merror \u001b[39m==\u001b[39m error:\n\u001b[0;32m--> 399\u001b[0m         \u001b[39mraise\u001b[39;00m \u001b[39mcls\u001b[39m(\u001b[39m*\u001b[39m\u001b[39m*\u001b[39mkwargs)\n\u001b[1;32m    400\u001b[0m \u001b[39mraise\u001b[39;00m CustomOAuth2Error(error\u001b[39m=\u001b[39merror, \u001b[39m*\u001b[39m\u001b[39m*\u001b[39mkwargs)\n",
      "\u001b[0;31mInvalidClientError\u001b[0m: (invalid_client) "
     ]
    }
   ],
   "source": [
    " client = OAuth2Session(client_id, token=token, auto_refresh_url=refresh_url, auto_refresh_kwargs=extra, token_updater=token_saver)\n",
    " r = client.get(protected_url)"
   ]
  },
  {
   "cell_type": "code",
   "execution_count": 3,
   "metadata": {},
   "outputs": [],
   "source": [
    "gen_grant_payload = {\n",
    "    \"scope\": \"ZohoBooks.fullaccess.all\",\n",
    "    \"client_id\": \"client_id\",\n",
    "    \"state\": \"testing\",\n",
    "    \"response_type\": \"code\",\n",
    "    \"access_type\": \"offline\",\n",
    "    \"redirect_uri\": \"http://www.zoho.com/books\",\n",
    "}"
   ]
  },
  {
   "cell_type": "markdown",
   "metadata": {},
   "source": [
    "## 1. Generate Grant Token"
   ]
  },
  {
   "cell_type": "code",
   "execution_count": 9,
   "metadata": {},
   "outputs": [
    {
     "data": {
      "text/plain": [
       "{'Server': 'ZGS', 'Date': 'Tue, 21 Jun 2022 04:47:52 GMT', 'Content-Type': 'text/html;charset=utf-8', 'Transfer-Encoding': 'chunked', 'Connection': 'keep-alive', 'Set-Cookie': 'e188bc05fe=4d6e62173a764ac5410d1192f41034cd; Path=/; Secure; HttpOnly, stk=addc1a3797b459d685476cf27a5a5896; Domain=zoho.com; Path=/; Secure', 'X-Content-Type-Options': 'nosniff', 'X-XSS-Protection': '1', 'Pragma': 'no-cache', 'Cache-Control': 'private,no-cache,no-store,max-age=0,must-revalidate', 'Expires': 'Thu, 01 Jan 1970 00:00:00 GMT', 'X-Frame-Options': 'SAMEORIGIN', 'P3P': 'CP=\"CAO PSA OUR\"', 'vary': 'accept-encoding', 'Content-Encoding': 'gzip', 'Strict-Transport-Security': 'max-age=63072000'}"
      ]
     },
     "execution_count": 9,
     "metadata": {},
     "output_type": "execute_result"
    }
   ],
   "source": [
    "grant_request = (\n",
    "    \"https://accounts.zoho.com/oauth/v2/auth?scope=ZohoBooks.fullaccess.all\"\n",
    "    + \"&client_id=\"\n",
    "    + client_id\n",
    "    + \"&state=testing\"\n",
    "    + \"&response_type=code\"\n",
    "    + \"&redirect_uri=http://www.zoho.com/books\"\n",
    "    + \"&access_type=offline\"\n",
    ")\n",
    "grant_response = requests.get(grant_request)\n",
    "grant_response.headers"
   ]
  },
  {
   "cell_type": "code",
   "execution_count": null,
   "metadata": {},
   "outputs": [],
   "source": [
    "r = requests.get('https://accounts.zoho.com/oauth/v2/auth?', params=gen_grant_payload)\n",
    "r.content"
   ]
  },
  {
   "cell_type": "markdown",
   "metadata": {},
   "source": [
    "## 2. Generate Access and Refresh Tokens"
   ]
  },
  {
   "cell_type": "code",
   "execution_count": null,
   "metadata": {},
   "outputs": [],
   "source": [
    "oath_request = (\n",
    "    \"https://accounts.zoho.com/oauth/v2/token?code=\"\n",
    "    + config.access_token\n",
    "    + \"&client_id=\"\n",
    "    + client_id\n",
    "    + \"&client_secret=\"\n",
    "    + client_secret\n",
    "    + \"&redirect_uri=http://www.zoho.com/books&grant_type=authorization_code\"\n",
    ")\n",
    "oath_request = requests.post(oath_request)\n",
    "print(oath_request.text)"
   ]
  },
  {
   "cell_type": "code",
   "execution_count": null,
   "metadata": {},
   "outputs": [],
   "source": [
    "https://accounts.zoho.com/oauth/v2/token?code=1000.dd7e47321d48b8a7e312e3d6eb1a9bb8.b6c07ac766ec11da98bf6a261e24dca4&client_id=1000.0SRSZSY37WMZ69405H3TMYI2239V&client_secret=fb0196010f2b70df8db2a173ca2cf59388798abf&redirect_uri=http://www.zoho.com/books&grant_type=authorization_code"
   ]
  },
  {
   "cell_type": "markdown",
   "metadata": {},
   "source": [
    "## 3: Generate Access Token From Refresh Token"
   ]
  },
  {
   "cell_type": "code",
   "execution_count": null,
   "metadata": {},
   "outputs": [],
   "source": [
    "https://accounts.zoho.com/oauth/v2/token?refresh_token=1000.8ecd474019e31d52d2f94aad6c5cb7.4638677ebc14f2f2ee0b6dfb6cebdc&client_id=1000.0SRSZSY37WMZ69405H3TMYI2239V&client_secret=fb0196010f2b70df8db2a173ca2cf59388798abf&redirect_uri=http://www.zoho.com/books&grant_type=authorization_code"
   ]
  },
  {
   "cell_type": "code",
   "execution_count": 6,
   "metadata": {},
   "outputs": [
    {
     "name": "stdout",
     "output_type": "stream",
     "text": [
      "{\"error\":\"invalid_code\"}\n"
     ]
    }
   ],
   "source": [
    "generate = (\n",
    "    \"https://accounts.zoho.com/oauth/v2/token?refresh_token=\"\n",
    "    + config.refresh_token\n",
    "    + \"&client_id=\"\n",
    "    + config.client_id\n",
    "    + \"&client_secret=\"\n",
    "    + config.client_secret\n",
    "    + \"&redirect_uri=\"\n",
    "    + regen_uri\n",
    "    + \"&grant_type=authorization_code\"\n",
    ")\n",
    "regen = requests.post(generate)\n",
    "print(regen.text)"
   ]
  },
  {
   "cell_type": "code",
   "execution_count": null,
   "metadata": {},
   "outputs": [],
   "source": []
  }
 ],
 "metadata": {
  "kernelspec": {
   "display_name": "Python 3.10.3 64-bit ('3.10.3')",
   "language": "python",
   "name": "python3"
  },
  "language_info": {
   "codemirror_mode": {
    "name": "ipython",
    "version": 3
   },
   "file_extension": ".py",
   "mimetype": "text/x-python",
   "name": "python",
   "nbconvert_exporter": "python",
   "pygments_lexer": "ipython3",
   "version": "3.10.3"
  },
  "orig_nbformat": 4,
  "vscode": {
   "interpreter": {
    "hash": "10626171d4353dd8d0f12b0dae77464b904fee8f635bb045a55f368206a04bde"
   }
  }
 },
 "nbformat": 4,
 "nbformat_minor": 2
}
